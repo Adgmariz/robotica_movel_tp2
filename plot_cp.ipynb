{
 "cells": [
  {
   "cell_type": "code",
   "execution_count": null,
   "id": "aeef89ed",
   "metadata": {},
   "outputs": [
    {
     "ename": "NameError",
     "evalue": "name 'goal' is not defined",
     "output_type": "error",
     "traceback": [
      "\u001b[0;31m---------------------------------------------------------------------------\u001b[0m",
      "\u001b[0;31mNameError\u001b[0m                                 Traceback (most recent call last)",
      "Cell \u001b[0;32mIn[1], line 5\u001b[0m\n\u001b[1;32m      1\u001b[0m \u001b[38;5;66;03m# ---- CAMPO VERDE: direção de cada pixel até o Goal (corrigido U↔V) ----\u001b[39;00m\n\u001b[1;32m      2\u001b[0m \u001b[38;5;66;03m# Grid amostrado já criado: Y, X\u001b[39;00m\n\u001b[1;32m      3\u001b[0m \u001b[38;5;66;03m# Goal em coords (x, y)\u001b[39;00m\n\u001b[1;32m      4\u001b[0m \u001b[38;5;66;03m# Use float para evitar erro de casting\u001b[39;00m\n\u001b[0;32m----> 5\u001b[0m U \u001b[38;5;241m=\u001b[39m (\u001b[43mgoal\u001b[49m[\u001b[38;5;241m1\u001b[39m] \u001b[38;5;241m-\u001b[39m Y)\u001b[38;5;241m.\u001b[39mastype(\u001b[38;5;28mfloat\u001b[39m)   \u001b[38;5;66;03m# <- componente x recebe delta em y\u001b[39;00m\n\u001b[1;32m      6\u001b[0m V \u001b[38;5;241m=\u001b[39m (goal[\u001b[38;5;241m0\u001b[39m] \u001b[38;5;241m-\u001b[39m X)\u001b[38;5;241m.\u001b[39mastype(\u001b[38;5;28mfloat\u001b[39m)   \u001b[38;5;66;03m# <- componente y recebe delta em x\u001b[39;00m\n\u001b[1;32m      8\u001b[0m \u001b[38;5;66;03m# Normaliza\u001b[39;00m\n",
      "\u001b[0;31mNameError\u001b[0m: name 'goal' is not defined"
     ]
    }
   ],
   "source": [
    "import numpy as np\n",
    "from PIL import Image\n",
    "import matplotlib.pyplot as plt\n",
    "from scipy.ndimage import distance_transform_edt\n",
    "\n",
    "IMG_PATH = \"maps/basic.png\"\n",
    "\n",
    "def load_binary_mask():\n",
    "    img = Image.open(IMG_PATH).convert(\"L\")\n",
    "    arr = np.array(img, dtype=np.uint8)\n",
    "    arr = 255 - arr\n",
    "    mask = arr < 200\n",
    "    return mask\n",
    "\n",
    "# Carrega a máscara binária\n",
    "mask = load_binary_mask()\n",
    "\n",
    "# Calcula distância e gradiente (campo de repulsão)\n",
    "dist = distance_transform_edt(~mask)\n",
    "gy, gx = np.gradient(dist)\n",
    "fx = gx\n",
    "fy = -gy\n",
    "\n",
    "# Amostragem\n",
    "step = 2\n",
    "Y, X = np.mgrid[0:mask.shape[0]:step, 0:mask.shape[1]:step]\n",
    "fx[mask] = 0\n",
    "fy[mask] = 0\n",
    "\n",
    "# Start e Goal\n",
    "start = np.array([68, 10])  # (x, y)\n",
    "goal  = np.array([10, 68])  # (x, y)\n",
    "\n",
    "# ---- CAMPO VERDE: direção de cada pixel até o Goal ----\n",
    "U = (goal[0] - X).astype(float)\n",
    "V = (goal[1] - Y).astype(float)\n",
    "\n",
    "# Normaliza\n",
    "L = np.hypot(U, V)\n",
    "L[L == 0] = 1.0\n",
    "U /= L\n",
    "V /= L\n",
    "\n",
    "# Remove setas verdes nos obstáculos\n",
    "mask_sampled = mask[Y, X]\n",
    "U[mask_sampled] = 0\n",
    "V[mask_sampled] = 0\n",
    "# -------------------------------------------------------\n",
    "\n",
    "plt.figure(figsize=(10, 10))\n",
    "plt.imshow(mask, cmap='gray', origin='upper')\n",
    "\n",
    "# Campo de repulsão (vermelho)\n",
    "plt.quiver(X, Y, fx[::step, ::step], fy[::step, ::step],\n",
    "           color='red', scale=35)\n",
    "\n",
    "# Campo direção → Goal (verde translúcido, pequeno)\n",
    "plt.quiver(X, Y, U, V, color='green', alpha=1.0, scale=35)\n",
    "\n",
    "# Marca Start e Goal\n",
    "plt.scatter(*start, c='blue', s=150, label='Start')\n",
    "plt.scatter(*goal,  c='green', s=150, label='Goal')\n",
    "\n",
    "plt.title(\"Campo de repulsão (vermelho) + atração do Goal (verde)\")\n",
    "plt.legend()\n",
    "plt.show()\n"
   ]
  }
 ],
 "metadata": {
  "kernelspec": {
   "display_name": "Python 3",
   "language": "python",
   "name": "python3"
  },
  "language_info": {
   "codemirror_mode": {
    "name": "ipython",
    "version": 3
   },
   "file_extension": ".py",
   "mimetype": "text/x-python",
   "name": "python",
   "nbconvert_exporter": "python",
   "pygments_lexer": "ipython3",
   "version": "3.12.10"
  }
 },
 "nbformat": 4,
 "nbformat_minor": 5
}
